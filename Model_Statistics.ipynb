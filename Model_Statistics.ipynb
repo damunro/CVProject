{
 "cells": [
  {
   "cell_type": "code",
   "execution_count": 4,
   "metadata": {},
   "outputs": [],
   "source": [
    "import json\n",
    "import matplotlib.pyplot as plt\n",
    "import numpy as np"
   ]
  },
  {
   "cell_type": "code",
   "execution_count": 5,
   "metadata": {},
   "outputs": [],
   "source": [
    "# Load results\n",
    "with open('./data/GroundTruth/prediction_results.json', 'r') as f:\n",
    "    samples = json.load(f)"
   ]
  },
  {
   "cell_type": "code",
   "execution_count": 6,
   "metadata": {},
   "outputs": [
    {
     "data": {
      "image/png": "[encoded data removed]",
      "text/plain": [
       "<Figure size 640x480 with 1 Axes>"
      ]
     },
     "metadata": {},
     "output_type": "display_data"
    }
   ],
   "source": [
    "tx_ground_truths = []\n",
    "tx_predictions = []\n",
    "tx_errors = []\n",
    "ty_ground_truths = []\n",
    "ty_predictions = []\n",
    "ty_errors = []\n",
    "tz_ground_truths = []\n",
    "tz_predictions = []\n",
    "tz_errors = []\n",
    "mount_angles = []\n",
    "for sample in samples:\n",
    "    if sample['prediction_translation'] == 'prediction error':\n",
    "        continue\n",
    "    ground_truth_tx = sample[\"ground_truth_translation\"][0]\n",
    "    prediction_tx = sample[\"prediction_translation\"][0]\n",
    "    ground_truth_ty = sample[\"ground_truth_translation\"][1]\n",
    "    prediction_ty = sample[\"prediction_translation\"][1]\n",
    "    ground_truth_tz = sample[\"ground_truth_translation\"][2]\n",
    "    prediction_tz = sample[\"prediction_translation\"][2]\n",
    "    mount_angle = sample[\"measured_angle_mount\"]\n",
    "\n",
    "    tx_ground_truths.append(ground_truth_tx)\n",
    "    tx_predictions.append(prediction_tx)\n",
    "    tx_errors.append((prediction_tx - ground_truth_tx))\n",
    "    ty_ground_truths.append(ground_truth_ty)\n",
    "    ty_predictions.append(prediction_ty)\n",
    "    ty_errors.append((prediction_ty - ground_truth_ty))\n",
    "    tz_ground_truths.append(ground_truth_tz)\n",
    "    tz_predictions.append(prediction_tz)\n",
    "    tz_errors.append((prediction_tz - ground_truth_tz))\n",
    "    mount_angles.append(mount_angle)\n",
    "\n",
    "\n",
    "plt.boxplot([tx_errors, ty_errors, tz_errors], labels=['X Error', 'Y Error', 'Z Error'], showfliers=False)\n",
    "#plt.scatter(mount_angles, tz_errors, marker='o', label='ground truth')\n",
    "#plt.scatter(mount_angles, tz_predictions, marker='o', label='predictions')\n",
    "#plt.legend()\n",
    "plt.show()"
   ]
  }
 ],
 "metadata": {
  "kernelspec": {
   "display_name": "Python 3 (ipykernel)",
   "language": "python",
   "name": "python3"
  },
  "language_info": {
   "codemirror_mode": {
    "name": "ipython",
    "version": 3
   },
   "file_extension": ".py",
   "mimetype": "text/x-python",
   "name": "python",
   "nbconvert_exporter": "python",
   "pygments_lexer": "ipython3",
   "version": "3.10.12"
  }
 },
 "nbformat": 4,
 "nbformat_minor": 2
}
